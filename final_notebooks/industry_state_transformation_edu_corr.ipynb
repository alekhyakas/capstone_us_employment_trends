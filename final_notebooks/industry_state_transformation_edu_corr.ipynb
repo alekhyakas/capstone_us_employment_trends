{
 "cells": [
  {
   "cell_type": "code",
   "execution_count": 1,
   "id": "cb13d4ae-38a9-4dda-a6b5-1ee028755219",
   "metadata": {},
   "outputs": [],
   "source": [
    "import pandas as pd\n",
    "import os\n",
    "import re\n",
    "import matplotlib.pyplot as plt"
   ]
  },
  {
   "cell_type": "markdown",
   "id": "4b67fe30-e9c1-43de-8f07-66d810542fec",
   "metadata": {},
   "source": [
    "### Transforming state-wise industry breakdown employee data into Tableau readable format. Below code will:\n",
    "\n",
    "### Collect 550+ CSV files containing employment data, transform it, and then save the transformed data into a single CSV file"
   ]
  },
  {
   "cell_type": "code",
   "execution_count": 3,
   "id": "75848448-de11-4f17-b8c7-73024e55b86d",
   "metadata": {},
   "outputs": [],
   "source": [
    "\n",
    "def transform_file(file_path, state, industry):\n",
    "    df = pd.read_csv(file_path)\n",
    "    df = df.melt(id_vars=['Year'], var_name='Month', value_name='Number of Employed Persons')\n",
    "    df['State'] = state\n",
    "    df['Industry'] = industry\n",
    "    return df"
   ]
  },
  {
   "cell_type": "code",
   "execution_count": 4,
   "id": "52d2d1c2-74dc-4ac8-b821-50a12f2c62b8",
   "metadata": {},
   "outputs": [],
   "source": [
    "\n",
    " base_folder = '/Users/alks/Downloads/DDA13/Python/capstone/data/cleaned_files/industry_state/'\n",
    "\n",
    "all_data = []\n",
    "\n",
    "for state_folder in os.listdir(base_folder):\n",
    "    state_path = os.path.join(base_folder, state_folder)\n",
    "    if os.path.isdir(state_path):\n",
    "\n",
    "        for industry_file in os.listdir(state_path):\n",
    "            file_path = os.path.join(state_path, industry_file)\n",
    "            industry = industry_file.replace('.csv', '').split('_', 1)[1]  # Extract industry from file name\n",
    "            state = state_folder\n",
    "            # Transform the file and append the data\n",
    "            transformed_df = transform_file(file_path, state, industry)\n",
    "            all_data.append(transformed_df)\n",
    "\n",
    "final_df = pd.concat(all_data, ignore_index=True)\n"
   ]
  },
  {
   "cell_type": "markdown",
   "id": "72a05078-019d-47fe-aef7-b1247be5c0ba",
   "metadata": {},
   "source": [
    "### Cleaning final_df"
   ]
  },
  {
   "cell_type": "code",
   "execution_count": 6,
   "id": "371b12b1-1ace-49d8-b23f-57ba05ab0bd4",
   "metadata": {},
   "outputs": [],
   "source": [
    "final_df['State']=final_df['State'].str.replace(\"_\",\" \")"
   ]
  },
  {
   "cell_type": "code",
   "execution_count": 7,
   "id": "d112e0d8-7bb8-4648-b250-44f64f058976",
   "metadata": {},
   "outputs": [],
   "source": [
    "final_df['Industry'] = final_df['Industry'].replace(['mining,_logging_and_construction'], 'mining_logging_and_construction')"
   ]
  },
  {
   "cell_type": "code",
   "execution_count": 8,
   "id": "ad69ea29-3634-4191-965e-40f3bbf2845f",
   "metadata": {},
   "outputs": [],
   "source": [
    "final_df['Industry'] = final_df['Industry'].replace(['trade,_transportation,_and_utilities'], 'trade_transportation_and_utilities')"
   ]
  },
  {
   "cell_type": "code",
   "execution_count": 9,
   "id": "fc905910-7272-4de4-b50e-daa2878c3923",
   "metadata": {},
   "outputs": [],
   "source": [
    "final_df['State'] = final_df['State'].str.strip()"
   ]
  },
  {
   "cell_type": "code",
   "execution_count": 10,
   "id": "44303b05-7179-4ff7-b2e6-527fe8161285",
   "metadata": {},
   "outputs": [],
   "source": [
    "final_df['Year'] = final_df['Year'].astype(str)"
   ]
  },
  {
   "cell_type": "code",
   "execution_count": 11,
   "id": "ed1fc9ad-62a4-44ad-9dc0-1e8648f542db",
   "metadata": {},
   "outputs": [],
   "source": [
    "\n",
    "final_df['State'] = final_df['State'].str.strip()\n",
    "final_df['Industry'] = final_df['Industry'].str.strip()\n",
    "final_df['Year'] = final_df['Year'].str.strip()\n"
   ]
  },
  {
   "cell_type": "code",
   "execution_count": 12,
   "id": "ce741a83-335d-47a9-abf6-c1cec139d60a",
   "metadata": {},
   "outputs": [],
   "source": [
    "final_df['Date']=pd.to_datetime(final_df['Year'].astype(str) + final_df['Month'], format='%Y%b')"
   ]
  },
  {
   "cell_type": "code",
   "execution_count": 13,
   "id": "b8e07ac5-c928-41c0-9f0b-28007decd09a",
   "metadata": {},
   "outputs": [],
   "source": [
    "final_df['Number of Employed Persons'] = pd.to_numeric(final_df['Number of Employed Persons'], errors='coerce')"
   ]
  },
  {
   "cell_type": "code",
   "execution_count": 14,
   "id": "5e4e8daf-1732-43fb-9375-b3b7e4de777a",
   "metadata": {},
   "outputs": [
    {
     "name": "stdout",
     "output_type": "stream",
     "text": [
      "<class 'pandas.core.frame.DataFrame'>\n",
      "RangeIndex: 79860 entries, 0 to 79859\n",
      "Data columns (total 6 columns):\n",
      " #   Column                      Non-Null Count  Dtype         \n",
      "---  ------                      --------------  -----         \n",
      " 0   Year                        79860 non-null  object        \n",
      " 1   Month                       79860 non-null  object        \n",
      " 2   Number of Employed Persons  75625 non-null  float64       \n",
      " 3   State                       79860 non-null  object        \n",
      " 4   Industry                    79860 non-null  object        \n",
      " 5   Date                        79860 non-null  datetime64[ns]\n",
      "dtypes: datetime64[ns](1), float64(1), object(4)\n",
      "memory usage: 3.7+ MB\n"
     ]
    }
   ],
   "source": [
    "final_df.info()"
   ]
  },
  {
   "cell_type": "code",
   "execution_count": 15,
   "id": "0e50524b-e0a0-4f50-b204-b42de266c130",
   "metadata": {},
   "outputs": [
    {
     "data": {
      "text/html": [
       "<div>\n",
       "<style scoped>\n",
       "    .dataframe tbody tr th:only-of-type {\n",
       "        vertical-align: middle;\n",
       "    }\n",
       "\n",
       "    .dataframe tbody tr th {\n",
       "        vertical-align: top;\n",
       "    }\n",
       "\n",
       "    .dataframe thead th {\n",
       "        text-align: right;\n",
       "    }\n",
       "</style>\n",
       "<table border=\"1\" class=\"dataframe\">\n",
       "  <thead>\n",
       "    <tr style=\"text-align: right;\">\n",
       "      <th></th>\n",
       "      <th>Year</th>\n",
       "      <th>Month</th>\n",
       "      <th>Number of Employed Persons</th>\n",
       "      <th>State</th>\n",
       "      <th>Industry</th>\n",
       "      <th>Date</th>\n",
       "    </tr>\n",
       "  </thead>\n",
       "  <tbody>\n",
       "    <tr>\n",
       "      <th>0</th>\n",
       "      <td>2014</td>\n",
       "      <td>Jan</td>\n",
       "      <td>335.1</td>\n",
       "      <td>louisiana</td>\n",
       "      <td>government</td>\n",
       "      <td>2014-01-01</td>\n",
       "    </tr>\n",
       "    <tr>\n",
       "      <th>1</th>\n",
       "      <td>2015</td>\n",
       "      <td>Jan</td>\n",
       "      <td>330.5</td>\n",
       "      <td>louisiana</td>\n",
       "      <td>government</td>\n",
       "      <td>2015-01-01</td>\n",
       "    </tr>\n",
       "    <tr>\n",
       "      <th>2</th>\n",
       "      <td>2016</td>\n",
       "      <td>Jan</td>\n",
       "      <td>328.8</td>\n",
       "      <td>louisiana</td>\n",
       "      <td>government</td>\n",
       "      <td>2016-01-01</td>\n",
       "    </tr>\n",
       "    <tr>\n",
       "      <th>3</th>\n",
       "      <td>2017</td>\n",
       "      <td>Jan</td>\n",
       "      <td>330.4</td>\n",
       "      <td>louisiana</td>\n",
       "      <td>government</td>\n",
       "      <td>2017-01-01</td>\n",
       "    </tr>\n",
       "    <tr>\n",
       "      <th>4</th>\n",
       "      <td>2018</td>\n",
       "      <td>Jan</td>\n",
       "      <td>329.7</td>\n",
       "      <td>louisiana</td>\n",
       "      <td>government</td>\n",
       "      <td>2018-01-01</td>\n",
       "    </tr>\n",
       "    <tr>\n",
       "      <th>...</th>\n",
       "      <td>...</td>\n",
       "      <td>...</td>\n",
       "      <td>...</td>\n",
       "      <td>...</td>\n",
       "      <td>...</td>\n",
       "      <td>...</td>\n",
       "    </tr>\n",
       "    <tr>\n",
       "      <th>79855</th>\n",
       "      <td>2020</td>\n",
       "      <td>Dec</td>\n",
       "      <td>2627.2</td>\n",
       "      <td>california</td>\n",
       "      <td>professional_and_business_services</td>\n",
       "      <td>2020-12-01</td>\n",
       "    </tr>\n",
       "    <tr>\n",
       "      <th>79856</th>\n",
       "      <td>2021</td>\n",
       "      <td>Dec</td>\n",
       "      <td>2809.3</td>\n",
       "      <td>california</td>\n",
       "      <td>professional_and_business_services</td>\n",
       "      <td>2021-12-01</td>\n",
       "    </tr>\n",
       "    <tr>\n",
       "      <th>79857</th>\n",
       "      <td>2022</td>\n",
       "      <td>Dec</td>\n",
       "      <td>2838.8</td>\n",
       "      <td>california</td>\n",
       "      <td>professional_and_business_services</td>\n",
       "      <td>2022-12-01</td>\n",
       "    </tr>\n",
       "    <tr>\n",
       "      <th>79858</th>\n",
       "      <td>2023</td>\n",
       "      <td>Dec</td>\n",
       "      <td>2763.1</td>\n",
       "      <td>california</td>\n",
       "      <td>professional_and_business_services</td>\n",
       "      <td>2023-12-01</td>\n",
       "    </tr>\n",
       "    <tr>\n",
       "      <th>79859</th>\n",
       "      <td>2024</td>\n",
       "      <td>Dec</td>\n",
       "      <td>NaN</td>\n",
       "      <td>california</td>\n",
       "      <td>professional_and_business_services</td>\n",
       "      <td>2024-12-01</td>\n",
       "    </tr>\n",
       "  </tbody>\n",
       "</table>\n",
       "<p>79860 rows × 6 columns</p>\n",
       "</div>"
      ],
      "text/plain": [
       "       Year Month  Number of Employed Persons       State  \\\n",
       "0      2014   Jan                       335.1   louisiana   \n",
       "1      2015   Jan                       330.5   louisiana   \n",
       "2      2016   Jan                       328.8   louisiana   \n",
       "3      2017   Jan                       330.4   louisiana   \n",
       "4      2018   Jan                       329.7   louisiana   \n",
       "...     ...   ...                         ...         ...   \n",
       "79855  2020   Dec                      2627.2  california   \n",
       "79856  2021   Dec                      2809.3  california   \n",
       "79857  2022   Dec                      2838.8  california   \n",
       "79858  2023   Dec                      2763.1  california   \n",
       "79859  2024   Dec                         NaN  california   \n",
       "\n",
       "                                 Industry       Date  \n",
       "0                              government 2014-01-01  \n",
       "1                              government 2015-01-01  \n",
       "2                              government 2016-01-01  \n",
       "3                              government 2017-01-01  \n",
       "4                              government 2018-01-01  \n",
       "...                                   ...        ...  \n",
       "79855  professional_and_business_services 2020-12-01  \n",
       "79856  professional_and_business_services 2021-12-01  \n",
       "79857  professional_and_business_services 2022-12-01  \n",
       "79858  professional_and_business_services 2023-12-01  \n",
       "79859  professional_and_business_services 2024-12-01  \n",
       "\n",
       "[79860 rows x 6 columns]"
      ]
     },
     "execution_count": 15,
     "metadata": {},
     "output_type": "execute_result"
    }
   ],
   "source": [
    "final_df"
   ]
  },
  {
   "cell_type": "code",
   "execution_count": 16,
   "id": "f03254d4-4d9e-41f7-8e32-f08ebece63d4",
   "metadata": {},
   "outputs": [],
   "source": [
    "final_df.to_csv('/Users/alks/Downloads/DDA13/Python/capstone/data/cleaned_files/final_industry_state.csv', index=False)"
   ]
  },
  {
   "cell_type": "markdown",
   "id": "392f1138-dfef-4ffa-9d55-a1d51e4f4844",
   "metadata": {},
   "source": [
    "### Creating dataset to group cumulative employment data by industry and date (not state)"
   ]
  },
  {
   "cell_type": "code",
   "execution_count": 18,
   "id": "0d6c2dc9-a1af-4884-810b-abc5a89b2980",
   "metadata": {},
   "outputs": [],
   "source": [
    "grouped_indus_df = final_df.groupby(['Industry', 'Date','Month','Year']).sum().reset_index()\n"
   ]
  },
  {
   "cell_type": "code",
   "execution_count": 19,
   "id": "95160872-7096-4e78-8c29-7f23982c7125",
   "metadata": {},
   "outputs": [],
   "source": [
    "grouped_indus_df = grouped_indus_df.drop(columns='State')"
   ]
  },
  {
   "cell_type": "code",
   "execution_count": 20,
   "id": "5b4b16c3-3ac4-4d95-afcf-c26b975304ab",
   "metadata": {},
   "outputs": [
    {
     "data": {
      "text/html": [
       "<div>\n",
       "<style scoped>\n",
       "    .dataframe tbody tr th:only-of-type {\n",
       "        vertical-align: middle;\n",
       "    }\n",
       "\n",
       "    .dataframe tbody tr th {\n",
       "        vertical-align: top;\n",
       "    }\n",
       "\n",
       "    .dataframe thead th {\n",
       "        text-align: right;\n",
       "    }\n",
       "</style>\n",
       "<table border=\"1\" class=\"dataframe\">\n",
       "  <thead>\n",
       "    <tr style=\"text-align: right;\">\n",
       "      <th></th>\n",
       "      <th>Industry</th>\n",
       "      <th>Date</th>\n",
       "      <th>Month</th>\n",
       "      <th>Year</th>\n",
       "      <th>Number of Employed Persons</th>\n",
       "    </tr>\n",
       "  </thead>\n",
       "  <tbody>\n",
       "    <tr>\n",
       "      <th>0</th>\n",
       "      <td>construction</td>\n",
       "      <td>2014-01-01</td>\n",
       "      <td>Jan</td>\n",
       "      <td>2014</td>\n",
       "      <td>5598.1</td>\n",
       "    </tr>\n",
       "    <tr>\n",
       "      <th>1</th>\n",
       "      <td>construction</td>\n",
       "      <td>2014-02-01</td>\n",
       "      <td>Feb</td>\n",
       "      <td>2014</td>\n",
       "      <td>5611.5</td>\n",
       "    </tr>\n",
       "    <tr>\n",
       "      <th>2</th>\n",
       "      <td>construction</td>\n",
       "      <td>2014-03-01</td>\n",
       "      <td>Mar</td>\n",
       "      <td>2014</td>\n",
       "      <td>5637.3</td>\n",
       "    </tr>\n",
       "    <tr>\n",
       "      <th>3</th>\n",
       "      <td>construction</td>\n",
       "      <td>2014-04-01</td>\n",
       "      <td>Apr</td>\n",
       "      <td>2014</td>\n",
       "      <td>5667.6</td>\n",
       "    </tr>\n",
       "    <tr>\n",
       "      <th>4</th>\n",
       "      <td>construction</td>\n",
       "      <td>2014-05-01</td>\n",
       "      <td>May</td>\n",
       "      <td>2014</td>\n",
       "      <td>5714.4</td>\n",
       "    </tr>\n",
       "    <tr>\n",
       "      <th>...</th>\n",
       "      <td>...</td>\n",
       "      <td>...</td>\n",
       "      <td>...</td>\n",
       "      <td>...</td>\n",
       "      <td>...</td>\n",
       "    </tr>\n",
       "    <tr>\n",
       "      <th>1711</th>\n",
       "      <td>trade_transportation_and_utilities</td>\n",
       "      <td>2024-08-01</td>\n",
       "      <td>Aug</td>\n",
       "      <td>2024</td>\n",
       "      <td>0.0</td>\n",
       "    </tr>\n",
       "    <tr>\n",
       "      <th>1712</th>\n",
       "      <td>trade_transportation_and_utilities</td>\n",
       "      <td>2024-09-01</td>\n",
       "      <td>Sep</td>\n",
       "      <td>2024</td>\n",
       "      <td>0.0</td>\n",
       "    </tr>\n",
       "    <tr>\n",
       "      <th>1713</th>\n",
       "      <td>trade_transportation_and_utilities</td>\n",
       "      <td>2024-10-01</td>\n",
       "      <td>Oct</td>\n",
       "      <td>2024</td>\n",
       "      <td>0.0</td>\n",
       "    </tr>\n",
       "    <tr>\n",
       "      <th>1714</th>\n",
       "      <td>trade_transportation_and_utilities</td>\n",
       "      <td>2024-11-01</td>\n",
       "      <td>Nov</td>\n",
       "      <td>2024</td>\n",
       "      <td>0.0</td>\n",
       "    </tr>\n",
       "    <tr>\n",
       "      <th>1715</th>\n",
       "      <td>trade_transportation_and_utilities</td>\n",
       "      <td>2024-12-01</td>\n",
       "      <td>Dec</td>\n",
       "      <td>2024</td>\n",
       "      <td>0.0</td>\n",
       "    </tr>\n",
       "  </tbody>\n",
       "</table>\n",
       "<p>1716 rows × 5 columns</p>\n",
       "</div>"
      ],
      "text/plain": [
       "                                Industry       Date Month  Year  \\\n",
       "0                           construction 2014-01-01   Jan  2014   \n",
       "1                           construction 2014-02-01   Feb  2014   \n",
       "2                           construction 2014-03-01   Mar  2014   \n",
       "3                           construction 2014-04-01   Apr  2014   \n",
       "4                           construction 2014-05-01   May  2014   \n",
       "...                                  ...        ...   ...   ...   \n",
       "1711  trade_transportation_and_utilities 2024-08-01   Aug  2024   \n",
       "1712  trade_transportation_and_utilities 2024-09-01   Sep  2024   \n",
       "1713  trade_transportation_and_utilities 2024-10-01   Oct  2024   \n",
       "1714  trade_transportation_and_utilities 2024-11-01   Nov  2024   \n",
       "1715  trade_transportation_and_utilities 2024-12-01   Dec  2024   \n",
       "\n",
       "      Number of Employed Persons  \n",
       "0                         5598.1  \n",
       "1                         5611.5  \n",
       "2                         5637.3  \n",
       "3                         5667.6  \n",
       "4                         5714.4  \n",
       "...                          ...  \n",
       "1711                         0.0  \n",
       "1712                         0.0  \n",
       "1713                         0.0  \n",
       "1714                         0.0  \n",
       "1715                         0.0  \n",
       "\n",
       "[1716 rows x 5 columns]"
      ]
     },
     "execution_count": 20,
     "metadata": {},
     "output_type": "execute_result"
    }
   ],
   "source": [
    "grouped_indus_df"
   ]
  },
  {
   "cell_type": "code",
   "execution_count": 21,
   "id": "1ff60780-d8b0-412c-a2d0-b1595a71a1de",
   "metadata": {},
   "outputs": [],
   "source": [
    "grouped_indus_df.to_csv('/Users/alks/Downloads/DDA13/Python/capstone/data/cleaned_files/grouped_indus_df.csv', index=False)"
   ]
  },
  {
   "cell_type": "markdown",
   "id": "567a6c40-2d00-4868-be35-72b6b89ff056",
   "metadata": {},
   "source": [
    "# Calculating number of months to recovery to pre-covid employment volumes by Industry"
   ]
  },
  {
   "cell_type": "code",
   "execution_count": 23,
   "id": "3578d7e8-7519-47b9-973b-e612e1079b89",
   "metadata": {},
   "outputs": [],
   "source": [
    "exclude_columns = ['Year', 'Month', 'Date']\n",
    "\n",
    "selected_columns = [col for col in grouped_indus_df.columns if col not in exclude_columns]"
   ]
  },
  {
   "cell_type": "code",
   "execution_count": 24,
   "id": "29010236-3b16-4d0b-894c-80423ed1253a",
   "metadata": {},
   "outputs": [],
   "source": [
    "df_pre_covid = grouped_indus_df.loc[grouped_indus_df['Date'] == '2020-01-01']"
   ]
  },
  {
   "cell_type": "code",
   "execution_count": 25,
   "id": "7b23d171-42c5-47f7-97f0-8c4fcd5b8e05",
   "metadata": {},
   "outputs": [],
   "source": [
    "df_post_covid=grouped_indus_df.loc[grouped_indus_df['Date']>'2020-04-01']"
   ]
  },
  {
   "cell_type": "code",
   "execution_count": 26,
   "id": "42b8b310-0e05-45cf-ab8b-57260e9367f0",
   "metadata": {},
   "outputs": [],
   "source": [
    "\n",
    "# Function to calculate the difference in months\n",
    "def diff_in_months(d1, d2):\n",
    "    return (d1.year - d2.year) * 12 + d1.month - d2.month\n",
    "\n",
    "recovery_data = []\n",
    "industries_met_condition = set()\n",
    "\n",
    "for index, row in df_post_covid.iterrows():\n",
    "    \n",
    "    industry = row['Industry']\n",
    "    \n",
    "    if industry in industries_met_condition:\n",
    "        continue\n",
    "    \n",
    "    pre_covid_value = df_pre_covid[df_pre_covid['Industry'] == industry]['Number of Employed Persons'].values[0]\n",
    "    \n",
    "    if row['Number of Employed Persons'] >= pre_covid_value:\n",
    "        \n",
    "        months_diff = diff_in_months(pd.to_datetime(row['Date']), pd.to_datetime('2020-04-01'))\n",
    "    \n",
    "        recovery_data.append((industry, row['Date'], months_diff))\n",
    "        \n",
    "        industries_met_condition.add(industry)\n",
    "\n",
    "recovery_df = pd.DataFrame(recovery_data, columns=['Industry', 'Date', 'Months Until 2020-04-01'])\n",
    "\n",
    "recovery_df = recovery_df[recovery_df['Industry'] != 'total_nonfarm']"
   ]
  },
  {
   "cell_type": "code",
   "execution_count": 27,
   "id": "3c730136-a79e-4551-a0b2-caa4df45c6a3",
   "metadata": {},
   "outputs": [],
   "source": [
    "recovery_df.to_csv('/Users/alks/Downloads/DDA13/Python/capstone/data/cleaned_files/recovery_df.csv', index=False)"
   ]
  },
  {
   "cell_type": "markdown",
   "id": "541c5c13-7dad-4251-9ec6-23704971c87e",
   "metadata": {},
   "source": [
    "### Creating a multi-dimensional correlation matrix between education attainment % per state and every industry per state"
   ]
  },
  {
   "cell_type": "markdown",
   "id": "3b4571ed-a7e8-49c1-a995-19d6e7c0761a",
   "metadata": {},
   "source": [
    "1. ### Creating a new column % of employed persons as 'emp_pct'"
   ]
  },
  {
   "cell_type": "code",
   "execution_count": 30,
   "id": "4b05b0eb-484b-433c-9f78-5085df7c25b2",
   "metadata": {},
   "outputs": [],
   "source": [
    "industry_avg=final_df.groupby(['State', 'Industry'])['Number of Employed Persons'].mean().reset_index(name='avg_employed_persons')"
   ]
  },
  {
   "cell_type": "code",
   "execution_count": 31,
   "id": "afcf953f-b739-4122-b98a-4f0390a6f765",
   "metadata": {},
   "outputs": [],
   "source": [
    "industry_total= industry_avg[\n",
    "    industry_avg['Industry'] == 'total_nonfarm']\n"
   ]
  },
  {
   "cell_type": "code",
   "execution_count": 32,
   "id": "d2d70ff1-4d11-4056-a8bb-7e5c585f1fe4",
   "metadata": {},
   "outputs": [],
   "source": [
    "industry_total=industry_total.rename(columns={'avg_employed_persons': 'total_emp'})"
   ]
  },
  {
   "cell_type": "code",
   "execution_count": 33,
   "id": "d84b2824-e79a-43b3-adb2-a71a949a98a1",
   "metadata": {},
   "outputs": [],
   "source": [
    "pct_industry=pd.merge(industry_total, industry_avg, on='State', how='outer')"
   ]
  },
  {
   "cell_type": "code",
   "execution_count": 34,
   "id": "d9e1a182-34dd-4614-bbbe-26afa7a1ba8e",
   "metadata": {},
   "outputs": [],
   "source": [
    "pct_industry['emp_pct']=((pct_industry['avg_employed_persons'])*100)/pct_industry['total_emp']"
   ]
  },
  {
   "cell_type": "code",
   "execution_count": 35,
   "id": "e0eff3c6-8c32-4a5e-bec4-197e46b94720",
   "metadata": {},
   "outputs": [],
   "source": [
    "pct_industry.to_csv('pct_industry.csv', index=False)"
   ]
  },
  {
   "cell_type": "markdown",
   "id": "0336370b-36ba-41fb-ad11-cc14f486a203",
   "metadata": {},
   "source": [
    "2. ### Reading State-wise education data and creating new columns for High school diploma and Bachelor's degree which do not contain overlap data (With a High School Diploma or higher - Pct --> With a High School Diploma - Pct)"
   ]
  },
  {
   "cell_type": "code",
   "execution_count": 37,
   "id": "3f0fec97-67cc-48e1-81dd-8bba1fdaa394",
   "metadata": {},
   "outputs": [],
   "source": [
    "edu= pd.read_csv('/Users/alks/Downloads/DDA13/Python/capstone/data/cleaned_files/education_levels.csv')"
   ]
  },
  {
   "cell_type": "code",
   "execution_count": 38,
   "id": "6b1c0864-9ffe-49a1-82c2-a91500712ec9",
   "metadata": {},
   "outputs": [],
   "source": [
    "edu[\"With a High School Diploma - Pct\"] = edu[\"With a High School Diploma or higher - Pct\"] - edu[\"With a Bachelor's Degree or higher - Pct\"]\n",
    "edu[\"With a Bachelor's Degree - Pct\"] = edu[\"With a Bachelor's Degree or higher - Pct\"] - edu[\"With an Advanced Degree - Pct\"]"
   ]
  },
  {
   "cell_type": "markdown",
   "id": "1b06dd6d-7b72-4849-896a-c8a33999638e",
   "metadata": {},
   "source": [
    "3. ### Creating the multi-dimensional correlation matrix"
   ]
  },
  {
   "cell_type": "code",
   "execution_count": 40,
   "id": "afadbe92-18a2-4f0e-9575-f6fb6cf1f593",
   "metadata": {},
   "outputs": [],
   "source": [
    "corr = {}"
   ]
  },
  {
   "cell_type": "code",
   "execution_count": 41,
   "id": "16bd5842-e4da-490f-9e6a-08be532b710c",
   "metadata": {},
   "outputs": [
    {
     "name": "stdout",
     "output_type": "stream",
     "text": [
      "government\n",
      "financial_activities\n",
      "manufacturing\n",
      "other_services\n",
      "trade_transportation_and_utilities\n",
      "mining_and_logging\n",
      "construction\n",
      "professional_and_business_services\n",
      "information\n",
      "mining_logging_and_construction\n",
      "private_education_and_health_services\n",
      "leisure_and_hospitality\n",
      "government\n",
      "financial_activities\n",
      "manufacturing\n",
      "other_services\n",
      "trade_transportation_and_utilities\n",
      "mining_and_logging\n",
      "construction\n",
      "professional_and_business_services\n",
      "information\n",
      "mining_logging_and_construction\n",
      "private_education_and_health_services\n",
      "leisure_and_hospitality\n",
      "government\n",
      "financial_activities\n",
      "manufacturing\n",
      "other_services\n",
      "trade_transportation_and_utilities\n",
      "mining_and_logging\n",
      "construction\n",
      "professional_and_business_services\n",
      "information\n",
      "mining_logging_and_construction\n",
      "private_education_and_health_services\n",
      "leisure_and_hospitality\n"
     ]
    }
   ],
   "source": [
    "for edu_type in ['a High School Diploma', \"a Bachelor's Degree\", \"an Advanced Degree\"]:\n",
    "    corr[edu_type] = {}\n",
    "    for industry in list(set(pct_industry['Industry_y'])-set([\"total_nonfarm\"])):\n",
    "        print(industry)\n",
    "        filtered_df = pct_industry[\n",
    "        (pct_industry['Industry_y'] == industry) \n",
    "    ]\n",
    "    \n",
    "        top_states_per_industry = (\n",
    "            filtered_df\n",
    "            .sort_values(by=['Industry_y', 'emp_pct'], ascending=[True, False])\n",
    "            .groupby('Industry_y')\n",
    "            .head(10)\n",
    "            .reset_index(drop=True)\n",
    "        )\n",
    "        \n",
    "        # Display the result\n",
    "        merged_corr= pd.merge(top_states_per_industry, edu, on='State')\n",
    "        corr[edu_type][industry] = merged_corr['emp_pct'].corr(merged_corr[\"With \" + edu_type+\" - Pct\"])\n"
   ]
  },
  {
   "cell_type": "code",
   "execution_count": 42,
   "id": "5bf85423-43bf-40fc-ae33-0c19294d6b5f",
   "metadata": {},
   "outputs": [
    {
     "name": "stdout",
     "output_type": "stream",
     "text": [
      "a High School Diploma\n",
      "[('private_education_and_health_services', -0.5878115140626016), ('professional_and_business_services', -0.44878781390330275), ('information', -0.2124749340336431), ('financial_activities', -0.15868770685914985), ('trade_transportation_and_utilities', -0.06866618628100869), ('mining_logging_and_construction', 0.0060045162868224), ('leisure_and_hospitality', 0.14319134466299294), ('manufacturing', 0.2697599086854733), ('government', 0.3393455795289681), ('other_services', 0.5485440758842967), ('mining_and_logging', 0.5681982239046255), ('construction', 0.671000164322886)]\n",
      "a Bachelor's Degree\n",
      "[('construction', -0.5348402570479078), ('other_services', -0.38326135896757046), ('financial_activities', -0.21467075893612741), ('government', -0.09996359106413825), ('leisure_and_hospitality', -0.058501818535666425), ('mining_and_logging', 0.05572355749477165), ('private_education_and_health_services', 0.07356006840297044), ('manufacturing', 0.30050962282422194), ('trade_transportation_and_utilities', 0.3625765527887742), ('professional_and_business_services', 0.40968849759808196), ('information', 0.4883590022314985), ('mining_logging_and_construction', 0.70076259007319)]\n",
      "an Advanced Degree\n",
      "[('construction', -0.5612063720262711), ('other_services', -0.5135975662886421), ('government', -0.4673973052668113), ('leisure_and_hospitality', -0.2582694103034199), ('manufacturing', -0.1803946107635293), ('mining_and_logging', -0.07308133467674795), ('trade_transportation_and_utilities', 0.020794644039203485), ('information', 0.09636314779514524), ('financial_activities', 0.29742619930598174), ('professional_and_business_services', 0.42005037712172527), ('mining_logging_and_construction', 0.575656335568345), ('private_education_and_health_services', 0.6716526692730523)]\n"
     ]
    }
   ],
   "source": [
    "for edu_type in ['a High School Diploma', \"a Bachelor's Degree\", \"an Advanced Degree\"]:\n",
    "    print(edu_type)\n",
    "    corr_sorted = sorted(corr[edu_type], key = corr[edu_type].get)\n",
    "    print([(x,corr[edu_type][x]) for x in corr_sorted])"
   ]
  },
  {
   "cell_type": "code",
   "execution_count": 43,
   "id": "f27e6a24-12bb-4cca-ad5a-982716ffb99e",
   "metadata": {},
   "outputs": [
    {
     "data": {
      "text/html": [
       "<div>\n",
       "<style scoped>\n",
       "    .dataframe tbody tr th:only-of-type {\n",
       "        vertical-align: middle;\n",
       "    }\n",
       "\n",
       "    .dataframe tbody tr th {\n",
       "        vertical-align: top;\n",
       "    }\n",
       "\n",
       "    .dataframe thead th {\n",
       "        text-align: right;\n",
       "    }\n",
       "</style>\n",
       "<table border=\"1\" class=\"dataframe\">\n",
       "  <thead>\n",
       "    <tr style=\"text-align: right;\">\n",
       "      <th></th>\n",
       "      <th>State</th>\n",
       "      <th>Industry_x</th>\n",
       "      <th>total_emp</th>\n",
       "      <th>Industry_y</th>\n",
       "      <th>avg_employed_persons</th>\n",
       "      <th>emp_pct</th>\n",
       "    </tr>\n",
       "  </thead>\n",
       "  <tbody>\n",
       "    <tr>\n",
       "      <th>0</th>\n",
       "      <td>alabama</td>\n",
       "      <td>total_nonfarm</td>\n",
       "      <td>2043.6872</td>\n",
       "      <td>construction</td>\n",
       "      <td>90.6144</td>\n",
       "      <td>4.433868</td>\n",
       "    </tr>\n",
       "    <tr>\n",
       "      <th>1</th>\n",
       "      <td>alabama</td>\n",
       "      <td>total_nonfarm</td>\n",
       "      <td>2043.6872</td>\n",
       "      <td>financial_activities</td>\n",
       "      <td>97.9816</td>\n",
       "      <td>4.794354</td>\n",
       "    </tr>\n",
       "    <tr>\n",
       "      <th>2</th>\n",
       "      <td>alabama</td>\n",
       "      <td>total_nonfarm</td>\n",
       "      <td>2043.6872</td>\n",
       "      <td>government</td>\n",
       "      <td>388.0536</td>\n",
       "      <td>18.987916</td>\n",
       "    </tr>\n",
       "    <tr>\n",
       "      <th>3</th>\n",
       "      <td>alabama</td>\n",
       "      <td>total_nonfarm</td>\n",
       "      <td>2043.6872</td>\n",
       "      <td>information</td>\n",
       "      <td>21.4456</td>\n",
       "      <td>1.049358</td>\n",
       "    </tr>\n",
       "    <tr>\n",
       "      <th>4</th>\n",
       "      <td>alabama</td>\n",
       "      <td>total_nonfarm</td>\n",
       "      <td>2043.6872</td>\n",
       "      <td>leisure_and_hospitality</td>\n",
       "      <td>196.1624</td>\n",
       "      <td>9.598455</td>\n",
       "    </tr>\n",
       "  </tbody>\n",
       "</table>\n",
       "</div>"
      ],
      "text/plain": [
       "     State     Industry_x  total_emp               Industry_y  \\\n",
       "0  alabama  total_nonfarm  2043.6872             construction   \n",
       "1  alabama  total_nonfarm  2043.6872     financial_activities   \n",
       "2  alabama  total_nonfarm  2043.6872               government   \n",
       "3  alabama  total_nonfarm  2043.6872              information   \n",
       "4  alabama  total_nonfarm  2043.6872  leisure_and_hospitality   \n",
       "\n",
       "   avg_employed_persons    emp_pct  \n",
       "0               90.6144   4.433868  \n",
       "1               97.9816   4.794354  \n",
       "2              388.0536  18.987916  \n",
       "3               21.4456   1.049358  \n",
       "4              196.1624   9.598455  "
      ]
     },
     "execution_count": 43,
     "metadata": {},
     "output_type": "execute_result"
    }
   ],
   "source": [
    "pct_industry.head()"
   ]
  },
  {
   "cell_type": "code",
   "execution_count": 44,
   "id": "f1aedb15-ade3-4f34-be27-75b6548c1c45",
   "metadata": {},
   "outputs": [],
   "source": [
    "pct_industry = pct_industry.drop(pct_industry[pct_industry['Industry_y'] == 'mining_logging_and_construction'].index)"
   ]
  },
  {
   "cell_type": "code",
   "execution_count": 45,
   "id": "0ba1403b-b6a5-4377-8fc2-06b748c8adff",
   "metadata": {},
   "outputs": [
    {
     "data": {
      "text/plain": [
       "{'construction',\n",
       " 'financial_activities',\n",
       " 'government',\n",
       " 'information',\n",
       " 'leisure_and_hospitality',\n",
       " 'manufacturing',\n",
       " 'mining_and_logging',\n",
       " 'other_services',\n",
       " 'private_education_and_health_services',\n",
       " 'professional_and_business_services',\n",
       " 'trade_transportation_and_utilities'}"
      ]
     },
     "execution_count": 45,
     "metadata": {},
     "output_type": "execute_result"
    }
   ],
   "source": [
    "set(pct_industry['Industry_y'])-set([\"total_nonfarm\"])"
   ]
  },
  {
   "cell_type": "code",
   "execution_count": 46,
   "id": "c26803ce-46e5-48f2-9429-75a90175721d",
   "metadata": {},
   "outputs": [
    {
     "data": {
      "text/plain": [
       "(12, 3)"
      ]
     },
     "execution_count": 46,
     "metadata": {},
     "output_type": "execute_result"
    }
   ],
   "source": [
    "import numpy as np\n",
    "edu_type_list = ['a High School Diploma', \"a Bachelor's Degree\", \"an Advanced Degree\"]\n",
    "corr_matrix = np.array([[corr[edu_type][ind] for edu_type in edu_type_list] for ind in sorted(corr[edu_type_list[0]])])\n",
    "corr_matrix.shape"
   ]
  },
  {
   "cell_type": "code",
   "execution_count": 47,
   "id": "e764d063-2167-4919-8fa0-a451cc70c0de",
   "metadata": {},
   "outputs": [
    {
     "data": {
      "image/png": "[encoded data removed]",
      "text/plain": [
       "<Figure size 640x480 with 2 Axes>"
      ]
     },
     "metadata": {},
     "output_type": "display_data"
    }
   ],
   "source": [
    "plt.figure()\n",
    "plt.imshow(corr_matrix.T)\n",
    "plt.xticks(ticks = np.arange(corr_matrix.shape[0]), labels = sorted(corr[edu_type_list[0]]),rotation = 75)\n",
    "plt.yticks(ticks = np.arange(corr_matrix.shape[1]), labels = edu_type_list)\n",
    "plt.colorbar()\n",
    "plt.savefig('/Users/alks/Downloads/DDA13/Python/capstone/data/cleaned_files/plot.png', bbox_inches='tight')"
   ]
  },
  {
   "cell_type": "code",
   "execution_count": null,
   "id": "ed458b09-caf5-4ae4-9585-d46e507b9553",
   "metadata": {},
   "outputs": [],
   "source": []
  }
 ],
 "metadata": {
  "kernelspec": {
   "display_name": "Python 3 (ipykernel)",
   "language": "python",
   "name": "python3"
  },
  "language_info": {
   "codemirror_mode": {
    "name": "ipython",
    "version": 3
   },
   "file_extension": ".py",
   "mimetype": "text/x-python",
   "name": "python",
   "nbconvert_exporter": "python",
   "pygments_lexer": "ipython3",
   "version": "3.11.7"
  }
 },
 "nbformat": 4,
 "nbformat_minor": 5
}
