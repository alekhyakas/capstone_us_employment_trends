{
 "cells": [
  {
   "cell_type": "code",
   "execution_count": 1,
   "id": "c7c99a86-a4f3-40b9-9444-c190b0b2b4d2",
   "metadata": {},
   "outputs": [],
   "source": [
    "import requests\n",
    "import pandas as pd"
   ]
  },
  {
   "cell_type": "markdown",
   "id": "f9ee44a3-ce2b-416a-8b8e-7157dac7f225",
   "metadata": {},
   "source": [
    "### Scraping US state wise education data from wikipedia table (inturn sourced from US census)"
   ]
  },
  {
   "cell_type": "code",
   "execution_count": 2,
   "id": "89ae2c4b-60e3-4f6d-98cf-2bcd26a27b99",
   "metadata": {},
   "outputs": [],
   "source": [
    "URL = 'https://en.wikipedia.org/wiki/List_of_U.S._states_and_territories_by_educational_attainment'\n",
    "\n",
    "response = requests.get(URL)"
   ]
  },
  {
   "cell_type": "code",
   "execution_count": 3,
   "id": "35c9d0d8-b16a-48ef-ac33-05c00f52b162",
   "metadata": {},
   "outputs": [
    {
     "data": {
      "text/plain": [
       "<Response [200]>"
      ]
     },
     "execution_count": 3,
     "metadata": {},
     "output_type": "execute_result"
    }
   ],
   "source": [
    "response"
   ]
  },
  {
   "cell_type": "code",
   "execution_count": 4,
   "id": "ac5fc3b3-76ca-42ed-914b-606430533b46",
   "metadata": {},
   "outputs": [],
   "source": [
    "from bs4 import BeautifulSoup as BS"
   ]
  },
  {
   "cell_type": "code",
   "execution_count": 5,
   "id": "487b32f5-aa1f-4037-a4fc-4275f87705c5",
   "metadata": {},
   "outputs": [],
   "source": [
    "soup = BS(response.text)"
   ]
  },
  {
   "cell_type": "code",
   "execution_count": 6,
   "id": "443c0431-8077-4fd2-af3e-6fb03f8dac08",
   "metadata": {},
   "outputs": [],
   "source": [
    "tables = soup.find_all(\"table\", {\"class\": \"wikitable sortable\"})"
   ]
  },
  {
   "cell_type": "code",
   "execution_count": 7,
   "id": "77d25130-744d-4e4b-9673-93b1e609dcf5",
   "metadata": {},
   "outputs": [
    {
     "data": {
      "text/html": [
       "<div>\n",
       "<style scoped>\n",
       "    .dataframe tbody tr th:only-of-type {\n",
       "        vertical-align: middle;\n",
       "    }\n",
       "\n",
       "    .dataframe tbody tr th {\n",
       "        vertical-align: top;\n",
       "    }\n",
       "\n",
       "    .dataframe thead th {\n",
       "        text-align: right;\n",
       "    }\n",
       "</style>\n",
       "<table border=\"1\" class=\"dataframe\">\n",
       "  <thead>\n",
       "    <tr style=\"text-align: right;\">\n",
       "      <th></th>\n",
       "      <th>State or Territory</th>\n",
       "      <th>Population over the age of 25</th>\n",
       "      <th>With a High School Diploma or higher - Population</th>\n",
       "      <th>With a High School Diploma or higher - Pct</th>\n",
       "      <th>With a Bachelor's Degree or higher - Population</th>\n",
       "      <th>With a Bachelor's Degree or higher - Pct</th>\n",
       "      <th>With an Advanced Degree - Population</th>\n",
       "      <th>With an Advanced Degree - Pct</th>\n",
       "    </tr>\n",
       "  </thead>\n",
       "  <tbody>\n",
       "    <tr>\n",
       "      <th>0</th>\n",
       "      <td>None</td>\n",
       "      <td>None</td>\n",
       "      <td>None</td>\n",
       "      <td>None</td>\n",
       "      <td>None</td>\n",
       "      <td>None</td>\n",
       "      <td>None</td>\n",
       "      <td>None</td>\n",
       "    </tr>\n",
       "    <tr>\n",
       "      <th>1</th>\n",
       "      <td>Alabama</td>\n",
       "      <td>3451208</td>\n",
       "      <td>3034741</td>\n",
       "      <td>87.93</td>\n",
       "      <td>946766</td>\n",
       "      <td>27.43</td>\n",
       "      <td>374490</td>\n",
       "      <td>10.85</td>\n",
       "    </tr>\n",
       "    <tr>\n",
       "      <th>2</th>\n",
       "      <td>Alaska</td>\n",
       "      <td>485779</td>\n",
       "      <td>453289</td>\n",
       "      <td>93.31</td>\n",
       "      <td>159290</td>\n",
       "      <td>32.79</td>\n",
       "      <td>57868</td>\n",
       "      <td>11.91</td>\n",
       "    </tr>\n",
       "    <tr>\n",
       "      <th>3</th>\n",
       "      <td>Arizona</td>\n",
       "      <td>4980297</td>\n",
       "      <td>4430934</td>\n",
       "      <td>88.97</td>\n",
       "      <td>1615081</td>\n",
       "      <td>32.43</td>\n",
       "      <td>629408</td>\n",
       "      <td>12.64</td>\n",
       "    </tr>\n",
       "    <tr>\n",
       "      <th>4</th>\n",
       "      <td>Arkansas</td>\n",
       "      <td>2037763</td>\n",
       "      <td>1806873</td>\n",
       "      <td>88.67</td>\n",
       "      <td>515034</td>\n",
       "      <td>25.27</td>\n",
       "      <td>190897</td>\n",
       "      <td>9.37</td>\n",
       "    </tr>\n",
       "  </tbody>\n",
       "</table>\n",
       "</div>"
      ],
      "text/plain": [
       "  State or Territory Population over the age of 25  \\\n",
       "0               None                          None   \n",
       "1            Alabama                       3451208   \n",
       "2             Alaska                        485779   \n",
       "3            Arizona                       4980297   \n",
       "4           Arkansas                       2037763   \n",
       "\n",
       "  With a High School Diploma or higher - Population  \\\n",
       "0                                              None   \n",
       "1                                           3034741   \n",
       "2                                            453289   \n",
       "3                                           4430934   \n",
       "4                                           1806873   \n",
       "\n",
       "  With a High School Diploma or higher - Pct  \\\n",
       "0                                       None   \n",
       "1                                      87.93   \n",
       "2                                      93.31   \n",
       "3                                      88.97   \n",
       "4                                      88.67   \n",
       "\n",
       "  With a Bachelor's Degree or higher - Population  \\\n",
       "0                                            None   \n",
       "1                                          946766   \n",
       "2                                          159290   \n",
       "3                                         1615081   \n",
       "4                                          515034   \n",
       "\n",
       "  With a Bachelor's Degree or higher - Pct  \\\n",
       "0                                     None   \n",
       "1                                    27.43   \n",
       "2                                    32.79   \n",
       "3                                    32.43   \n",
       "4                                    25.27   \n",
       "\n",
       "  With an Advanced Degree - Population With an Advanced Degree - Pct  \n",
       "0                                 None                          None  \n",
       "1                               374490                         10.85  \n",
       "2                                57868                         11.91  \n",
       "3                               629408                         12.64  \n",
       "4                               190897                          9.37  "
      ]
     },
     "execution_count": 7,
     "metadata": {},
     "output_type": "execute_result"
    }
   ],
   "source": [
    "tables = soup.find_all(\"table\")\n",
    "\n",
    "table = tables[1]\n",
    "\n",
    "#headers = [header.text.strip() for header in table.find_all(\"th\")]\n",
    "\n",
    "rows = table.find_all(\"tr\")\n",
    "\n",
    "data = []\n",
    "\n",
    "for row in rows[1:]:\n",
    "    cells = row.find_all(\"td\")\n",
    "    cell_data = [cell.text.strip().replace(\",\", \"\").replace(\"%\", \"\") for cell in cells]\n",
    "    data.append(cell_data)\n",
    "\n",
    "correct_headers = ['State or Territory', 'Population over the age of 25',\n",
    "                   'With a High School Diploma or higher - Population', 'With a High School Diploma or higher - Pct',\n",
    "                   \"With a Bachelor's Degree or higher - Population\", \"With a Bachelor's Degree or higher - Pct\",\n",
    "                   'With an Advanced Degree - Population', 'With an Advanced Degree - Pct']\n",
    "\n",
    "df = pd.DataFrame(data, columns=correct_headers)\n",
    "\n",
    "df.head()\n"
   ]
  },
  {
   "cell_type": "markdown",
   "id": "15c30b18-c6a0-431d-a18e-171b87e0a094",
   "metadata": {},
   "source": [
    "### Cleaning the scraped data in the data frame"
   ]
  },
  {
   "cell_type": "code",
   "execution_count": 8,
   "id": "75a46d33-56da-4873-b875-618a43e3def0",
   "metadata": {},
   "outputs": [],
   "source": [
    "df = df.iloc[1:-1].reset_index(drop=True)"
   ]
  },
  {
   "cell_type": "code",
   "execution_count": 9,
   "id": "92bd61c4-430e-44cb-acbb-b36e90a71945",
   "metadata": {},
   "outputs": [
    {
     "data": {
      "text/plain": [
       "State or Territory                                   object\n",
       "Population over the age of 25                        object\n",
       "With a High School Diploma or higher - Population    object\n",
       "With a High School Diploma or higher - Pct           object\n",
       "With a Bachelor's Degree or higher - Population      object\n",
       "With a Bachelor's Degree or higher - Pct             object\n",
       "With an Advanced Degree - Population                 object\n",
       "With an Advanced Degree - Pct                        object\n",
       "dtype: object"
      ]
     },
     "execution_count": 9,
     "metadata": {},
     "output_type": "execute_result"
    }
   ],
   "source": [
    "df.dtypes"
   ]
  },
  {
   "cell_type": "code",
   "execution_count": 10,
   "id": "0f4cb60a-6a4b-458e-ab9e-e546993e3461",
   "metadata": {},
   "outputs": [],
   "source": [
    "df['With a High School Diploma or higher - Population'] = df['With a High School Diploma or higher - Population'].str.strip()\n",
    "df['With a High School Diploma or higher - Pct'] = df['With a High School Diploma or higher - Pct'].str.strip()\n",
    "df[\"With a Bachelor's Degree or higher - Population\"] = df[\"With a Bachelor's Degree or higher - Population\"].str.strip()\n",
    "df[\"With a Bachelor's Degree or higher - Pct\"] = df[\"With a Bachelor's Degree or higher - Pct\"].str.strip()\n",
    "df['With an Advanced Degree - Population'] = df['With an Advanced Degree - Population'].str.strip()\n",
    "df['With an Advanced Degree - Pct'] = df['With an Advanced Degree - Pct'].str.strip()\n"
   ]
  },
  {
   "cell_type": "code",
   "execution_count": 11,
   "id": "6d39384e-07d4-4afa-a40e-3799f4ea6caf",
   "metadata": {},
   "outputs": [],
   "source": [
    "df = df.drop(columns=['Population over the age of 25'])\n"
   ]
  },
  {
   "cell_type": "code",
   "execution_count": 12,
   "id": "80b8f01a-5bc1-4d2e-aa65-ebc2e5a3e1ab",
   "metadata": {},
   "outputs": [],
   "source": [
    "df['With a High School Diploma or higher - Population'] = df['With a High School Diploma or higher - Population'].astype(float)\n",
    "df['With a High School Diploma or higher - Pct'] = df['With a High School Diploma or higher - Pct'].astype(float)\n",
    "df[\"With a Bachelor's Degree or higher - Population\"] = df[\"With a Bachelor's Degree or higher - Population\"].astype(float)\n",
    "df[\"With a Bachelor's Degree or higher - Pct\"] = df[\"With a Bachelor's Degree or higher - Pct\"].astype(float)\n",
    "df['With an Advanced Degree - Population'] = df['With an Advanced Degree - Population'].astype(float)\n",
    "df['With an Advanced Degree - Pct'] = df['With an Advanced Degree - Pct'].astype(float)"
   ]
  },
  {
   "cell_type": "code",
   "execution_count": 13,
   "id": "e1a3be67-cdcd-4c7a-b5fb-3a1306177989",
   "metadata": {},
   "outputs": [],
   "source": [
    "df = df.rename(columns={'State or Territory': 'State'})"
   ]
  },
  {
   "cell_type": "code",
   "execution_count": 14,
   "id": "4d0dcf34-9118-440d-851e-951adf51a85a",
   "metadata": {},
   "outputs": [],
   "source": [
    "df['State'] = df['State'].str.lower()"
   ]
  },
  {
   "cell_type": "code",
   "execution_count": 16,
   "id": "fae475a4-56e2-4f66-8c0f-49e5442538f1",
   "metadata": {},
   "outputs": [],
   "source": [
    "df['State']=df['State'].str.replace(\"_\",\" \")"
   ]
  },
  {
   "cell_type": "code",
   "execution_count": 47,
   "id": "fced847e-a2d9-4a4b-a1aa-b9845fb31759",
   "metadata": {},
   "outputs": [],
   "source": [
    "df.to_csv('/Users/alks/Downloads/DDA13/Python/capstone/data/cleaned_files/education_levels.csv', index=False)"
   ]
  },
  {
   "cell_type": "code",
   "execution_count": null,
   "id": "828ea7a6-cfe7-4955-bffd-2ead80e6d959",
   "metadata": {},
   "outputs": [],
   "source": []
  }
 ],
 "metadata": {
  "kernelspec": {
   "display_name": "Python 3 (ipykernel)",
   "language": "python",
   "name": "python3"
  },
  "language_info": {
   "codemirror_mode": {
    "name": "ipython",
    "version": 3
   },
   "file_extension": ".py",
   "mimetype": "text/x-python",
   "name": "python",
   "nbconvert_exporter": "python",
   "pygments_lexer": "ipython3",
   "version": "3.11.7"
  }
 },
 "nbformat": 4,
 "nbformat_minor": 5
}
